{
  "nbformat": 4,
  "nbformat_minor": 0,
  "metadata": {
    "colab": {
      "name": "Task 5.ipynb",
      "provenance": [],
      "authorship_tag": "ABX9TyPER90yt2lDNmykQ6t6s5lu",
      "include_colab_link": true
    },
    "kernelspec": {
      "name": "python3",
      "display_name": "Python 3"
    },
    "language_info": {
      "name": "python"
    }
  },
  "cells": [
    {
      "cell_type": "markdown",
      "metadata": {
        "id": "view-in-github",
        "colab_type": "text"
      },
      "source": [
        "<a href=\"https://colab.research.google.com/github/LakshmiAravinda/D20_Task_5/blob/main/Task_5.ipynb\" target=\"_parent\"><img src=\"https://colab.research.google.com/assets/colab-badge.svg\" alt=\"Open In Colab\"/></a>"
      ]
    },
    {
      "cell_type": "code",
      "execution_count": 1,
      "metadata": {
        "id": "U-XX0yataTip"
      },
      "outputs": [],
      "source": [
        "import pandas as pd\n",
        "import numpy as np\n",
        "data = pd.read_csv(\"/content/takehome_user_engagement.csv\")"
      ]
    },
    {
      "cell_type": "code",
      "source": [
        "import pandas as pd\n",
        "import numpy as np\n",
        "data1 = pd.read_csv(\"/content/takehome_users.csv\")"
      ],
      "metadata": {
        "id": "4E-zX1yEahOY"
      },
      "execution_count": null,
      "outputs": []
    },
    {
      "cell_type": "code",
      "source": [
        "'''takehome_user_engagement table consists of the days on which each user logged in details with userid, timestamp,visted details as columns\n",
        "takehome_users table consists of 12,000 users data who signed up for the product in the last two years with name, object_id, email, creation_source, creation_time, last_session_creation_time, opted_in_to_mailing_list, enabled_for_marketing_drip, org_id and invited_by_user_id details as columns.\n",
        "Now we have find the adopted user.\n",
        "Adopted user is the user who has logged into the product on 3 separate days in atleast one 7 day period(week).\n",
        "\n",
        "Possible ways to find the Adopted user:\n",
        "First we have to find the data of repetation of a particular userid where visited as 1\n",
        "then we have to find the corresponding time_stamp data\n",
        "then by using date function need to check all the dates of a particular user if they are consecutive of 7 days then the user is Adapted user else no\n",
        "we can gt the Adaptoped user by only using takehome_user_engagement table columns'''"
      ],
      "metadata": {
        "id": "yBouJqjSbsHP"
      },
      "execution_count": null,
      "outputs": []
    }
  ]
}